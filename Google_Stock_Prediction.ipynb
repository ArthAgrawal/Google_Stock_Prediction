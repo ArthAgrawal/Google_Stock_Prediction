{
  "nbformat": 4,
  "nbformat_minor": 0,
  "metadata": {
    "colab": {
      "provenance": [],
      "gpuType": "T4",
      "include_colab_link": true
    },
    "kernelspec": {
      "name": "python3",
      "display_name": "Python 3"
    },
    "accelerator": "GPU"
  },
  "cells": [
    {
      "cell_type": "markdown",
      "metadata": {
        "id": "view-in-github",
        "colab_type": "text"
      },
      "source": [
        "<a href=\"https://colab.research.google.com/github/ArthAgrawal/Google_Stock_Prediction/blob/main/Google_Stock_Prediction.ipynb\" target=\"_parent\"><img src=\"https://colab.research.google.com/assets/colab-badge.svg\" alt=\"Open In Colab\"/></a>"
      ]
    },
    {
      "cell_type": "markdown",
      "metadata": {
        "id": "xpAuMVCwfWs8"
      },
      "source": [
        "# Recurrent Neural Network"
      ]
    },
    {
      "cell_type": "code",
      "metadata": {
        "id": "ZT1f24vHffuf"
      },
      "source": [
        "import numpy as np\n",
        "import matplotlib.pyplot as plt\n",
        "import pandas as pd"
      ],
      "execution_count": 1,
      "outputs": []
    },
    {
      "cell_type": "code",
      "metadata": {
        "id": "1xiv3pJOgqY3",
        "colab": {
          "base_uri": "https://localhost:8080/"
        },
        "outputId": "49b25e79-5322-472c-f1ab-3dcd7392e794"
      },
      "source": [
        "dataset_train = pd.read_csv('Google_Stock_Price_Train.csv')\n",
        "training_set = dataset_train.iloc[:, 1:2].values\n",
        "training_set"
      ],
      "execution_count": 2,
      "outputs": [
        {
          "output_type": "execute_result",
          "data": {
            "text/plain": [
              "array([[325.25],\n",
              "       [331.27],\n",
              "       [329.83],\n",
              "       ...,\n",
              "       [793.7 ],\n",
              "       [783.33],\n",
              "       [782.75]])"
            ]
          },
          "metadata": {},
          "execution_count": 2
        }
      ]
    },
    {
      "cell_type": "code",
      "source": [
        "print(np.min(training_set))\n",
        "print(np.max(training_set))"
      ],
      "metadata": {
        "colab": {
          "base_uri": "https://localhost:8080/"
        },
        "id": "itpNY9vSqDnb",
        "outputId": "81346cc8-6e17-4c3d-c9d9-7434b12c3b1a"
      },
      "execution_count": 3,
      "outputs": [
        {
          "output_type": "stream",
          "name": "stdout",
          "text": [
            "279.12\n",
            "816.68\n"
          ]
        }
      ]
    },
    {
      "cell_type": "code",
      "metadata": {
        "id": "OTrF2kR7gx9x",
        "colab": {
          "base_uri": "https://localhost:8080/"
        },
        "outputId": "4c420219-f18d-4a47-ad72-2c04742d6959"
      },
      "source": [
        "from sklearn.preprocessing import MinMaxScaler\n",
        "sc = MinMaxScaler(feature_range = (0, 1))\n",
        "training_set_scaled = sc.fit_transform(training_set)\n",
        "training_set_scaled"
      ],
      "execution_count": 4,
      "outputs": [
        {
          "output_type": "execute_result",
          "data": {
            "text/plain": [
              "array([[0.08581368],\n",
              "       [0.09701243],\n",
              "       [0.09433366],\n",
              "       ...,\n",
              "       [0.95725128],\n",
              "       [0.93796041],\n",
              "       [0.93688146]])"
            ]
          },
          "metadata": {},
          "execution_count": 4
        }
      ]
    },
    {
      "cell_type": "markdown",
      "metadata": {
        "id": "JyYgYocqhNUg"
      },
      "source": [
        "### Creating a data structure with 60 timesteps and 1 output"
      ]
    },
    {
      "cell_type": "code",
      "metadata": {
        "id": "iofU21B0i6ST",
        "colab": {
          "base_uri": "https://localhost:8080/",
          "height": 444
        },
        "outputId": "9983caec-f01d-4945-8161-6aa2045f5b7b"
      },
      "source": [
        "X_train = []\n",
        "y_train = []\n",
        "for i in range(60, 1258):\n",
        "    X_train.append(training_set_scaled[i-60:i, 0])\n",
        "    y_train.append(training_set_scaled[i, 0])\n",
        "X_train, y_train = np.array(X_train), np.array(y_train)\n",
        "\n",
        "# Creating DataFrame for display\n",
        "df_X_train = pd.DataFrame(X_train, columns=[f'Time_Step_{i}' for i in range(X_train.shape[1])])\n",
        "df_y_train = pd.DataFrame(y_train, columns=['Target'])\n",
        "\n",
        "# Displaying the DataFrames\n",
        "df_X_train.head()  # Display first few rows of X_train\n",
        "df_y_train.head()  # Display first few rows of y_train\n",
        "\n",
        "df_combined = pd.concat([df_X_train, df_y_train], axis=1)\n",
        "df_combined"
      ],
      "execution_count": 5,
      "outputs": [
        {
          "output_type": "execute_result",
          "data": {
            "text/plain": [
              "      Time_Step_0  Time_Step_1  Time_Step_2  Time_Step_3  Time_Step_4  \\\n",
              "0        0.085814     0.097012     0.094334     0.091562     0.079842   \n",
              "1        0.097012     0.094334     0.091562     0.079842     0.064328   \n",
              "2        0.094334     0.091562     0.079842     0.064328     0.058542   \n",
              "3        0.091562     0.079842     0.064328     0.058542     0.065686   \n",
              "4        0.079842     0.064328     0.058542     0.065686     0.061091   \n",
              "...           ...          ...          ...          ...          ...   \n",
              "1193     0.934445     0.924939     0.921069     0.924381     0.930482   \n",
              "1194     0.924939     0.921069     0.924381     0.930482     0.929905   \n",
              "1195     0.921069     0.924381     0.930482     0.929905     0.931133   \n",
              "1196     0.924381     0.930482     0.929905     0.931133     0.927506   \n",
              "1197     0.930482     0.929905     0.931133     0.927506     0.944155   \n",
              "\n",
              "      Time_Step_5  Time_Step_6  Time_Step_7  Time_Step_8  Time_Step_9  ...  \\\n",
              "0        0.064328     0.058542     0.065686     0.061091     0.066393  ...   \n",
              "1        0.058542     0.065686     0.061091     0.066393     0.061426  ...   \n",
              "2        0.065686     0.061091     0.066393     0.061426     0.074745  ...   \n",
              "3        0.061091     0.066393     0.061426     0.074745     0.027978  ...   \n",
              "4        0.066393     0.061426     0.074745     0.027978     0.023793  ...   \n",
              "...           ...          ...          ...          ...          ...  ...   \n",
              "1193     0.929905     0.931133     0.927506     0.944155     0.938760  ...   \n",
              "1194     0.931133     0.927506     0.944155     0.938760     0.934035  ...   \n",
              "1195     0.927506     0.944155     0.938760     0.934035     0.934835  ...   \n",
              "1196     0.944155     0.938760     0.934035     0.934835     0.931394  ...   \n",
              "1197     0.938760     0.934035     0.934835     0.931394     0.946369  ...   \n",
              "\n",
              "      Time_Step_51  Time_Step_52  Time_Step_53  Time_Step_54  Time_Step_55  \\\n",
              "0         0.056124      0.058189      0.065407      0.068830      0.072438   \n",
              "1         0.058189      0.065407      0.068830      0.072438      0.079935   \n",
              "2         0.065407      0.068830      0.072438      0.079935      0.078466   \n",
              "3         0.068830      0.072438      0.079935      0.078466      0.080345   \n",
              "4         0.072438      0.079935      0.078466      0.080345      0.084977   \n",
              "...            ...           ...           ...           ...           ...   \n",
              "1193      0.941141      0.957623      0.964134      0.964023      0.969715   \n",
              "1194      0.957623      0.964134      0.964023      0.969715      0.950778   \n",
              "1195      0.964134      0.964023      0.969715      0.950778      0.962944   \n",
              "1196      0.964023      0.969715      0.950778      0.962944      0.961232   \n",
              "1197      0.969715      0.950778      0.962944      0.961232      0.954759   \n",
              "\n",
              "      Time_Step_56  Time_Step_57  Time_Step_58  Time_Step_59    Target  \n",
              "0         0.079935      0.078466      0.080345      0.084977  0.086279  \n",
              "1         0.078466      0.080345      0.084977      0.086279  0.084716  \n",
              "2         0.080345      0.084977      0.086279      0.084716  0.074541  \n",
              "3         0.084977      0.086279      0.084716      0.074541  0.078838  \n",
              "4         0.086279      0.084716      0.074541      0.078838  0.072383  \n",
              "...            ...           ...           ...           ...       ...  \n",
              "1193      0.950778      0.962944      0.961232      0.954759  0.952043  \n",
              "1194      0.962944      0.961232      0.954759      0.952043  0.951633  \n",
              "1195      0.961232      0.954759      0.952043      0.951633  0.957251  \n",
              "1196      0.954759      0.952043      0.951633      0.957251  0.937960  \n",
              "1197      0.952043      0.951633      0.957251      0.937960  0.936881  \n",
              "\n",
              "[1198 rows x 61 columns]"
            ],
            "text/html": [
              "\n",
              "  <div id=\"df-843c79c7-88b9-4bcf-a034-37d4faad64df\" class=\"colab-df-container\">\n",
              "    <div>\n",
              "<style scoped>\n",
              "    .dataframe tbody tr th:only-of-type {\n",
              "        vertical-align: middle;\n",
              "    }\n",
              "\n",
              "    .dataframe tbody tr th {\n",
              "        vertical-align: top;\n",
              "    }\n",
              "\n",
              "    .dataframe thead th {\n",
              "        text-align: right;\n",
              "    }\n",
              "</style>\n",
              "<table border=\"1\" class=\"dataframe\">\n",
              "  <thead>\n",
              "    <tr style=\"text-align: right;\">\n",
              "      <th></th>\n",
              "      <th>Time_Step_0</th>\n",
              "      <th>Time_Step_1</th>\n",
              "      <th>Time_Step_2</th>\n",
              "      <th>Time_Step_3</th>\n",
              "      <th>Time_Step_4</th>\n",
              "      <th>Time_Step_5</th>\n",
              "      <th>Time_Step_6</th>\n",
              "      <th>Time_Step_7</th>\n",
              "      <th>Time_Step_8</th>\n",
              "      <th>Time_Step_9</th>\n",
              "      <th>...</th>\n",
              "      <th>Time_Step_51</th>\n",
              "      <th>Time_Step_52</th>\n",
              "      <th>Time_Step_53</th>\n",
              "      <th>Time_Step_54</th>\n",
              "      <th>Time_Step_55</th>\n",
              "      <th>Time_Step_56</th>\n",
              "      <th>Time_Step_57</th>\n",
              "      <th>Time_Step_58</th>\n",
              "      <th>Time_Step_59</th>\n",
              "      <th>Target</th>\n",
              "    </tr>\n",
              "  </thead>\n",
              "  <tbody>\n",
              "    <tr>\n",
              "      <th>0</th>\n",
              "      <td>0.085814</td>\n",
              "      <td>0.097012</td>\n",
              "      <td>0.094334</td>\n",
              "      <td>0.091562</td>\n",
              "      <td>0.079842</td>\n",
              "      <td>0.064328</td>\n",
              "      <td>0.058542</td>\n",
              "      <td>0.065686</td>\n",
              "      <td>0.061091</td>\n",
              "      <td>0.066393</td>\n",
              "      <td>...</td>\n",
              "      <td>0.056124</td>\n",
              "      <td>0.058189</td>\n",
              "      <td>0.065407</td>\n",
              "      <td>0.068830</td>\n",
              "      <td>0.072438</td>\n",
              "      <td>0.079935</td>\n",
              "      <td>0.078466</td>\n",
              "      <td>0.080345</td>\n",
              "      <td>0.084977</td>\n",
              "      <td>0.086279</td>\n",
              "    </tr>\n",
              "    <tr>\n",
              "      <th>1</th>\n",
              "      <td>0.097012</td>\n",
              "      <td>0.094334</td>\n",
              "      <td>0.091562</td>\n",
              "      <td>0.079842</td>\n",
              "      <td>0.064328</td>\n",
              "      <td>0.058542</td>\n",
              "      <td>0.065686</td>\n",
              "      <td>0.061091</td>\n",
              "      <td>0.066393</td>\n",
              "      <td>0.061426</td>\n",
              "      <td>...</td>\n",
              "      <td>0.058189</td>\n",
              "      <td>0.065407</td>\n",
              "      <td>0.068830</td>\n",
              "      <td>0.072438</td>\n",
              "      <td>0.079935</td>\n",
              "      <td>0.078466</td>\n",
              "      <td>0.080345</td>\n",
              "      <td>0.084977</td>\n",
              "      <td>0.086279</td>\n",
              "      <td>0.084716</td>\n",
              "    </tr>\n",
              "    <tr>\n",
              "      <th>2</th>\n",
              "      <td>0.094334</td>\n",
              "      <td>0.091562</td>\n",
              "      <td>0.079842</td>\n",
              "      <td>0.064328</td>\n",
              "      <td>0.058542</td>\n",
              "      <td>0.065686</td>\n",
              "      <td>0.061091</td>\n",
              "      <td>0.066393</td>\n",
              "      <td>0.061426</td>\n",
              "      <td>0.074745</td>\n",
              "      <td>...</td>\n",
              "      <td>0.065407</td>\n",
              "      <td>0.068830</td>\n",
              "      <td>0.072438</td>\n",
              "      <td>0.079935</td>\n",
              "      <td>0.078466</td>\n",
              "      <td>0.080345</td>\n",
              "      <td>0.084977</td>\n",
              "      <td>0.086279</td>\n",
              "      <td>0.084716</td>\n",
              "      <td>0.074541</td>\n",
              "    </tr>\n",
              "    <tr>\n",
              "      <th>3</th>\n",
              "      <td>0.091562</td>\n",
              "      <td>0.079842</td>\n",
              "      <td>0.064328</td>\n",
              "      <td>0.058542</td>\n",
              "      <td>0.065686</td>\n",
              "      <td>0.061091</td>\n",
              "      <td>0.066393</td>\n",
              "      <td>0.061426</td>\n",
              "      <td>0.074745</td>\n",
              "      <td>0.027978</td>\n",
              "      <td>...</td>\n",
              "      <td>0.068830</td>\n",
              "      <td>0.072438</td>\n",
              "      <td>0.079935</td>\n",
              "      <td>0.078466</td>\n",
              "      <td>0.080345</td>\n",
              "      <td>0.084977</td>\n",
              "      <td>0.086279</td>\n",
              "      <td>0.084716</td>\n",
              "      <td>0.074541</td>\n",
              "      <td>0.078838</td>\n",
              "    </tr>\n",
              "    <tr>\n",
              "      <th>4</th>\n",
              "      <td>0.079842</td>\n",
              "      <td>0.064328</td>\n",
              "      <td>0.058542</td>\n",
              "      <td>0.065686</td>\n",
              "      <td>0.061091</td>\n",
              "      <td>0.066393</td>\n",
              "      <td>0.061426</td>\n",
              "      <td>0.074745</td>\n",
              "      <td>0.027978</td>\n",
              "      <td>0.023793</td>\n",
              "      <td>...</td>\n",
              "      <td>0.072438</td>\n",
              "      <td>0.079935</td>\n",
              "      <td>0.078466</td>\n",
              "      <td>0.080345</td>\n",
              "      <td>0.084977</td>\n",
              "      <td>0.086279</td>\n",
              "      <td>0.084716</td>\n",
              "      <td>0.074541</td>\n",
              "      <td>0.078838</td>\n",
              "      <td>0.072383</td>\n",
              "    </tr>\n",
              "    <tr>\n",
              "      <th>...</th>\n",
              "      <td>...</td>\n",
              "      <td>...</td>\n",
              "      <td>...</td>\n",
              "      <td>...</td>\n",
              "      <td>...</td>\n",
              "      <td>...</td>\n",
              "      <td>...</td>\n",
              "      <td>...</td>\n",
              "      <td>...</td>\n",
              "      <td>...</td>\n",
              "      <td>...</td>\n",
              "      <td>...</td>\n",
              "      <td>...</td>\n",
              "      <td>...</td>\n",
              "      <td>...</td>\n",
              "      <td>...</td>\n",
              "      <td>...</td>\n",
              "      <td>...</td>\n",
              "      <td>...</td>\n",
              "      <td>...</td>\n",
              "      <td>...</td>\n",
              "    </tr>\n",
              "    <tr>\n",
              "      <th>1193</th>\n",
              "      <td>0.934445</td>\n",
              "      <td>0.924939</td>\n",
              "      <td>0.921069</td>\n",
              "      <td>0.924381</td>\n",
              "      <td>0.930482</td>\n",
              "      <td>0.929905</td>\n",
              "      <td>0.931133</td>\n",
              "      <td>0.927506</td>\n",
              "      <td>0.944155</td>\n",
              "      <td>0.938760</td>\n",
              "      <td>...</td>\n",
              "      <td>0.941141</td>\n",
              "      <td>0.957623</td>\n",
              "      <td>0.964134</td>\n",
              "      <td>0.964023</td>\n",
              "      <td>0.969715</td>\n",
              "      <td>0.950778</td>\n",
              "      <td>0.962944</td>\n",
              "      <td>0.961232</td>\n",
              "      <td>0.954759</td>\n",
              "      <td>0.952043</td>\n",
              "    </tr>\n",
              "    <tr>\n",
              "      <th>1194</th>\n",
              "      <td>0.924939</td>\n",
              "      <td>0.921069</td>\n",
              "      <td>0.924381</td>\n",
              "      <td>0.930482</td>\n",
              "      <td>0.929905</td>\n",
              "      <td>0.931133</td>\n",
              "      <td>0.927506</td>\n",
              "      <td>0.944155</td>\n",
              "      <td>0.938760</td>\n",
              "      <td>0.934035</td>\n",
              "      <td>...</td>\n",
              "      <td>0.957623</td>\n",
              "      <td>0.964134</td>\n",
              "      <td>0.964023</td>\n",
              "      <td>0.969715</td>\n",
              "      <td>0.950778</td>\n",
              "      <td>0.962944</td>\n",
              "      <td>0.961232</td>\n",
              "      <td>0.954759</td>\n",
              "      <td>0.952043</td>\n",
              "      <td>0.951633</td>\n",
              "    </tr>\n",
              "    <tr>\n",
              "      <th>1195</th>\n",
              "      <td>0.921069</td>\n",
              "      <td>0.924381</td>\n",
              "      <td>0.930482</td>\n",
              "      <td>0.929905</td>\n",
              "      <td>0.931133</td>\n",
              "      <td>0.927506</td>\n",
              "      <td>0.944155</td>\n",
              "      <td>0.938760</td>\n",
              "      <td>0.934035</td>\n",
              "      <td>0.934835</td>\n",
              "      <td>...</td>\n",
              "      <td>0.964134</td>\n",
              "      <td>0.964023</td>\n",
              "      <td>0.969715</td>\n",
              "      <td>0.950778</td>\n",
              "      <td>0.962944</td>\n",
              "      <td>0.961232</td>\n",
              "      <td>0.954759</td>\n",
              "      <td>0.952043</td>\n",
              "      <td>0.951633</td>\n",
              "      <td>0.957251</td>\n",
              "    </tr>\n",
              "    <tr>\n",
              "      <th>1196</th>\n",
              "      <td>0.924381</td>\n",
              "      <td>0.930482</td>\n",
              "      <td>0.929905</td>\n",
              "      <td>0.931133</td>\n",
              "      <td>0.927506</td>\n",
              "      <td>0.944155</td>\n",
              "      <td>0.938760</td>\n",
              "      <td>0.934035</td>\n",
              "      <td>0.934835</td>\n",
              "      <td>0.931394</td>\n",
              "      <td>...</td>\n",
              "      <td>0.964023</td>\n",
              "      <td>0.969715</td>\n",
              "      <td>0.950778</td>\n",
              "      <td>0.962944</td>\n",
              "      <td>0.961232</td>\n",
              "      <td>0.954759</td>\n",
              "      <td>0.952043</td>\n",
              "      <td>0.951633</td>\n",
              "      <td>0.957251</td>\n",
              "      <td>0.937960</td>\n",
              "    </tr>\n",
              "    <tr>\n",
              "      <th>1197</th>\n",
              "      <td>0.930482</td>\n",
              "      <td>0.929905</td>\n",
              "      <td>0.931133</td>\n",
              "      <td>0.927506</td>\n",
              "      <td>0.944155</td>\n",
              "      <td>0.938760</td>\n",
              "      <td>0.934035</td>\n",
              "      <td>0.934835</td>\n",
              "      <td>0.931394</td>\n",
              "      <td>0.946369</td>\n",
              "      <td>...</td>\n",
              "      <td>0.969715</td>\n",
              "      <td>0.950778</td>\n",
              "      <td>0.962944</td>\n",
              "      <td>0.961232</td>\n",
              "      <td>0.954759</td>\n",
              "      <td>0.952043</td>\n",
              "      <td>0.951633</td>\n",
              "      <td>0.957251</td>\n",
              "      <td>0.937960</td>\n",
              "      <td>0.936881</td>\n",
              "    </tr>\n",
              "  </tbody>\n",
              "</table>\n",
              "<p>1198 rows × 61 columns</p>\n",
              "</div>\n",
              "    <div class=\"colab-df-buttons\">\n",
              "\n",
              "  <div class=\"colab-df-container\">\n",
              "    <button class=\"colab-df-convert\" onclick=\"convertToInteractive('df-843c79c7-88b9-4bcf-a034-37d4faad64df')\"\n",
              "            title=\"Convert this dataframe to an interactive table.\"\n",
              "            style=\"display:none;\">\n",
              "\n",
              "  <svg xmlns=\"http://www.w3.org/2000/svg\" height=\"24px\" viewBox=\"0 -960 960 960\">\n",
              "    <path d=\"M120-120v-720h720v720H120Zm60-500h600v-160H180v160Zm220 220h160v-160H400v160Zm0 220h160v-160H400v160ZM180-400h160v-160H180v160Zm440 0h160v-160H620v160ZM180-180h160v-160H180v160Zm440 0h160v-160H620v160Z\"/>\n",
              "  </svg>\n",
              "    </button>\n",
              "\n",
              "  <style>\n",
              "    .colab-df-container {\n",
              "      display:flex;\n",
              "      gap: 12px;\n",
              "    }\n",
              "\n",
              "    .colab-df-convert {\n",
              "      background-color: #E8F0FE;\n",
              "      border: none;\n",
              "      border-radius: 50%;\n",
              "      cursor: pointer;\n",
              "      display: none;\n",
              "      fill: #1967D2;\n",
              "      height: 32px;\n",
              "      padding: 0 0 0 0;\n",
              "      width: 32px;\n",
              "    }\n",
              "\n",
              "    .colab-df-convert:hover {\n",
              "      background-color: #E2EBFA;\n",
              "      box-shadow: 0px 1px 2px rgba(60, 64, 67, 0.3), 0px 1px 3px 1px rgba(60, 64, 67, 0.15);\n",
              "      fill: #174EA6;\n",
              "    }\n",
              "\n",
              "    .colab-df-buttons div {\n",
              "      margin-bottom: 4px;\n",
              "    }\n",
              "\n",
              "    [theme=dark] .colab-df-convert {\n",
              "      background-color: #3B4455;\n",
              "      fill: #D2E3FC;\n",
              "    }\n",
              "\n",
              "    [theme=dark] .colab-df-convert:hover {\n",
              "      background-color: #434B5C;\n",
              "      box-shadow: 0px 1px 3px 1px rgba(0, 0, 0, 0.15);\n",
              "      filter: drop-shadow(0px 1px 2px rgba(0, 0, 0, 0.3));\n",
              "      fill: #FFFFFF;\n",
              "    }\n",
              "  </style>\n",
              "\n",
              "    <script>\n",
              "      const buttonEl =\n",
              "        document.querySelector('#df-843c79c7-88b9-4bcf-a034-37d4faad64df button.colab-df-convert');\n",
              "      buttonEl.style.display =\n",
              "        google.colab.kernel.accessAllowed ? 'block' : 'none';\n",
              "\n",
              "      async function convertToInteractive(key) {\n",
              "        const element = document.querySelector('#df-843c79c7-88b9-4bcf-a034-37d4faad64df');\n",
              "        const dataTable =\n",
              "          await google.colab.kernel.invokeFunction('convertToInteractive',\n",
              "                                                    [key], {});\n",
              "        if (!dataTable) return;\n",
              "\n",
              "        const docLinkHtml = 'Like what you see? Visit the ' +\n",
              "          '<a target=\"_blank\" href=https://colab.research.google.com/notebooks/data_table.ipynb>data table notebook</a>'\n",
              "          + ' to learn more about interactive tables.';\n",
              "        element.innerHTML = '';\n",
              "        dataTable['output_type'] = 'display_data';\n",
              "        await google.colab.output.renderOutput(dataTable, element);\n",
              "        const docLink = document.createElement('div');\n",
              "        docLink.innerHTML = docLinkHtml;\n",
              "        element.appendChild(docLink);\n",
              "      }\n",
              "    </script>\n",
              "  </div>\n",
              "\n",
              "\n",
              "<div id=\"df-6f4f9168-ee2b-4652-a5ab-9ea1414b6576\">\n",
              "  <button class=\"colab-df-quickchart\" onclick=\"quickchart('df-6f4f9168-ee2b-4652-a5ab-9ea1414b6576')\"\n",
              "            title=\"Suggest charts\"\n",
              "            style=\"display:none;\">\n",
              "\n",
              "<svg xmlns=\"http://www.w3.org/2000/svg\" height=\"24px\"viewBox=\"0 0 24 24\"\n",
              "     width=\"24px\">\n",
              "    <g>\n",
              "        <path d=\"M19 3H5c-1.1 0-2 .9-2 2v14c0 1.1.9 2 2 2h14c1.1 0 2-.9 2-2V5c0-1.1-.9-2-2-2zM9 17H7v-7h2v7zm4 0h-2V7h2v10zm4 0h-2v-4h2v4z\"/>\n",
              "    </g>\n",
              "</svg>\n",
              "  </button>\n",
              "\n",
              "<style>\n",
              "  .colab-df-quickchart {\n",
              "      --bg-color: #E8F0FE;\n",
              "      --fill-color: #1967D2;\n",
              "      --hover-bg-color: #E2EBFA;\n",
              "      --hover-fill-color: #174EA6;\n",
              "      --disabled-fill-color: #AAA;\n",
              "      --disabled-bg-color: #DDD;\n",
              "  }\n",
              "\n",
              "  [theme=dark] .colab-df-quickchart {\n",
              "      --bg-color: #3B4455;\n",
              "      --fill-color: #D2E3FC;\n",
              "      --hover-bg-color: #434B5C;\n",
              "      --hover-fill-color: #FFFFFF;\n",
              "      --disabled-bg-color: #3B4455;\n",
              "      --disabled-fill-color: #666;\n",
              "  }\n",
              "\n",
              "  .colab-df-quickchart {\n",
              "    background-color: var(--bg-color);\n",
              "    border: none;\n",
              "    border-radius: 50%;\n",
              "    cursor: pointer;\n",
              "    display: none;\n",
              "    fill: var(--fill-color);\n",
              "    height: 32px;\n",
              "    padding: 0;\n",
              "    width: 32px;\n",
              "  }\n",
              "\n",
              "  .colab-df-quickchart:hover {\n",
              "    background-color: var(--hover-bg-color);\n",
              "    box-shadow: 0 1px 2px rgba(60, 64, 67, 0.3), 0 1px 3px 1px rgba(60, 64, 67, 0.15);\n",
              "    fill: var(--button-hover-fill-color);\n",
              "  }\n",
              "\n",
              "  .colab-df-quickchart-complete:disabled,\n",
              "  .colab-df-quickchart-complete:disabled:hover {\n",
              "    background-color: var(--disabled-bg-color);\n",
              "    fill: var(--disabled-fill-color);\n",
              "    box-shadow: none;\n",
              "  }\n",
              "\n",
              "  .colab-df-spinner {\n",
              "    border: 2px solid var(--fill-color);\n",
              "    border-color: transparent;\n",
              "    border-bottom-color: var(--fill-color);\n",
              "    animation:\n",
              "      spin 1s steps(1) infinite;\n",
              "  }\n",
              "\n",
              "  @keyframes spin {\n",
              "    0% {\n",
              "      border-color: transparent;\n",
              "      border-bottom-color: var(--fill-color);\n",
              "      border-left-color: var(--fill-color);\n",
              "    }\n",
              "    20% {\n",
              "      border-color: transparent;\n",
              "      border-left-color: var(--fill-color);\n",
              "      border-top-color: var(--fill-color);\n",
              "    }\n",
              "    30% {\n",
              "      border-color: transparent;\n",
              "      border-left-color: var(--fill-color);\n",
              "      border-top-color: var(--fill-color);\n",
              "      border-right-color: var(--fill-color);\n",
              "    }\n",
              "    40% {\n",
              "      border-color: transparent;\n",
              "      border-right-color: var(--fill-color);\n",
              "      border-top-color: var(--fill-color);\n",
              "    }\n",
              "    60% {\n",
              "      border-color: transparent;\n",
              "      border-right-color: var(--fill-color);\n",
              "    }\n",
              "    80% {\n",
              "      border-color: transparent;\n",
              "      border-right-color: var(--fill-color);\n",
              "      border-bottom-color: var(--fill-color);\n",
              "    }\n",
              "    90% {\n",
              "      border-color: transparent;\n",
              "      border-bottom-color: var(--fill-color);\n",
              "    }\n",
              "  }\n",
              "</style>\n",
              "\n",
              "  <script>\n",
              "    async function quickchart(key) {\n",
              "      const quickchartButtonEl =\n",
              "        document.querySelector('#' + key + ' button');\n",
              "      quickchartButtonEl.disabled = true;  // To prevent multiple clicks.\n",
              "      quickchartButtonEl.classList.add('colab-df-spinner');\n",
              "      try {\n",
              "        const charts = await google.colab.kernel.invokeFunction(\n",
              "            'suggestCharts', [key], {});\n",
              "      } catch (error) {\n",
              "        console.error('Error during call to suggestCharts:', error);\n",
              "      }\n",
              "      quickchartButtonEl.classList.remove('colab-df-spinner');\n",
              "      quickchartButtonEl.classList.add('colab-df-quickchart-complete');\n",
              "    }\n",
              "    (() => {\n",
              "      let quickchartButtonEl =\n",
              "        document.querySelector('#df-6f4f9168-ee2b-4652-a5ab-9ea1414b6576 button');\n",
              "      quickchartButtonEl.style.display =\n",
              "        google.colab.kernel.accessAllowed ? 'block' : 'none';\n",
              "    })();\n",
              "  </script>\n",
              "</div>\n",
              "\n",
              "  <div id=\"id_72ced7b6-6865-4aa8-8f6f-ecc90da755cf\">\n",
              "    <style>\n",
              "      .colab-df-generate {\n",
              "        background-color: #E8F0FE;\n",
              "        border: none;\n",
              "        border-radius: 50%;\n",
              "        cursor: pointer;\n",
              "        display: none;\n",
              "        fill: #1967D2;\n",
              "        height: 32px;\n",
              "        padding: 0 0 0 0;\n",
              "        width: 32px;\n",
              "      }\n",
              "\n",
              "      .colab-df-generate:hover {\n",
              "        background-color: #E2EBFA;\n",
              "        box-shadow: 0px 1px 2px rgba(60, 64, 67, 0.3), 0px 1px 3px 1px rgba(60, 64, 67, 0.15);\n",
              "        fill: #174EA6;\n",
              "      }\n",
              "\n",
              "      [theme=dark] .colab-df-generate {\n",
              "        background-color: #3B4455;\n",
              "        fill: #D2E3FC;\n",
              "      }\n",
              "\n",
              "      [theme=dark] .colab-df-generate:hover {\n",
              "        background-color: #434B5C;\n",
              "        box-shadow: 0px 1px 3px 1px rgba(0, 0, 0, 0.15);\n",
              "        filter: drop-shadow(0px 1px 2px rgba(0, 0, 0, 0.3));\n",
              "        fill: #FFFFFF;\n",
              "      }\n",
              "    </style>\n",
              "    <button class=\"colab-df-generate\" onclick=\"generateWithVariable('df_combined')\"\n",
              "            title=\"Generate code using this dataframe.\"\n",
              "            style=\"display:none;\">\n",
              "\n",
              "  <svg xmlns=\"http://www.w3.org/2000/svg\" height=\"24px\"viewBox=\"0 0 24 24\"\n",
              "       width=\"24px\">\n",
              "    <path d=\"M7,19H8.4L18.45,9,17,7.55,7,17.6ZM5,21V16.75L18.45,3.32a2,2,0,0,1,2.83,0l1.4,1.43a1.91,1.91,0,0,1,.58,1.4,1.91,1.91,0,0,1-.58,1.4L9.25,21ZM18.45,9,17,7.55Zm-12,3A5.31,5.31,0,0,0,4.9,8.1,5.31,5.31,0,0,0,1,6.5,5.31,5.31,0,0,0,4.9,4.9,5.31,5.31,0,0,0,6.5,1,5.31,5.31,0,0,0,8.1,4.9,5.31,5.31,0,0,0,12,6.5,5.46,5.46,0,0,0,6.5,12Z\"/>\n",
              "  </svg>\n",
              "    </button>\n",
              "    <script>\n",
              "      (() => {\n",
              "      const buttonEl =\n",
              "        document.querySelector('#id_72ced7b6-6865-4aa8-8f6f-ecc90da755cf button.colab-df-generate');\n",
              "      buttonEl.style.display =\n",
              "        google.colab.kernel.accessAllowed ? 'block' : 'none';\n",
              "\n",
              "      buttonEl.onclick = () => {\n",
              "        google.colab.notebook.generateWithVariable('df_combined');\n",
              "      }\n",
              "      })();\n",
              "    </script>\n",
              "  </div>\n",
              "\n",
              "    </div>\n",
              "  </div>\n"
            ],
            "application/vnd.google.colaboratory.intrinsic+json": {
              "type": "dataframe",
              "variable_name": "df_combined"
            }
          },
          "metadata": {},
          "execution_count": 5
        }
      ]
    },
    {
      "cell_type": "markdown",
      "metadata": {
        "id": "D8yaN7Zvi95l"
      },
      "source": [
        "### Reshaping"
      ]
    },
    {
      "cell_type": "code",
      "metadata": {
        "id": "FOXqJHmNjBkz"
      },
      "source": [
        "X_train = np.reshape(X_train, (X_train.shape[0], X_train.shape[1], 1))"
      ],
      "execution_count": 6,
      "outputs": []
    },
    {
      "cell_type": "code",
      "metadata": {
        "id": "9JRnqsxEjKsD"
      },
      "source": [
        "from keras.models import Sequential\n",
        "from keras.layers import Dense\n",
        "from keras.layers import LSTM\n",
        "from keras.layers import Dropout"
      ],
      "execution_count": 7,
      "outputs": []
    },
    {
      "cell_type": "markdown",
      "metadata": {
        "id": "FEIE-1s9jNzC"
      },
      "source": [
        "### Initialising the RNN"
      ]
    },
    {
      "cell_type": "code",
      "metadata": {
        "id": "1338dJ0UjRKH"
      },
      "source": [
        "regressor = Sequential()"
      ],
      "execution_count": 8,
      "outputs": []
    },
    {
      "cell_type": "markdown",
      "metadata": {
        "id": "62eg1OPGjT8z"
      },
      "source": [
        "### Adding the first LSTM layer and some Dropout regularisation"
      ]
    },
    {
      "cell_type": "code",
      "metadata": {
        "id": "2hIinyXUjbVU"
      },
      "source": [
        "regressor.add(LSTM(units = 50, return_sequences = True, input_shape = (X_train.shape[1], 1)))\n",
        "regressor.add(Dropout(0.2))"
      ],
      "execution_count": 9,
      "outputs": []
    },
    {
      "cell_type": "markdown",
      "metadata": {
        "id": "3XBIYLyOjlMx"
      },
      "source": [
        "### Adding a second LSTM layer and some Dropout regularisation"
      ]
    },
    {
      "cell_type": "code",
      "metadata": {
        "id": "UG7nrVaSjuZ2"
      },
      "source": [
        "regressor.add(LSTM(units = 50, return_sequences = True))\n",
        "regressor.add(Dropout(0.2))"
      ],
      "execution_count": 10,
      "outputs": []
    },
    {
      "cell_type": "markdown",
      "metadata": {
        "id": "Ey3fHVnGj1cu"
      },
      "source": [
        "### Adding a third LSTM layer and some Dropout regularisation"
      ]
    },
    {
      "cell_type": "code",
      "metadata": {
        "id": "PuNi6PgFj7jO"
      },
      "source": [
        "regressor.add(LSTM(units = 50, return_sequences = True))\n",
        "regressor.add(Dropout(0.2))"
      ],
      "execution_count": 11,
      "outputs": []
    },
    {
      "cell_type": "markdown",
      "metadata": {
        "id": "SYTrtfTmj933"
      },
      "source": [
        "### Adding a fourth LSTM layer and some Dropout regularisation"
      ]
    },
    {
      "cell_type": "code",
      "metadata": {
        "id": "Jp4Ty8fRkBYV"
      },
      "source": [
        "regressor.add(LSTM(units = 50))\n",
        "regressor.add(Dropout(0.2))"
      ],
      "execution_count": 12,
      "outputs": []
    },
    {
      "cell_type": "markdown",
      "metadata": {
        "id": "9ABI6rOIkHhk"
      },
      "source": [
        "### Adding the output layer"
      ]
    },
    {
      "cell_type": "code",
      "metadata": {
        "id": "aM6R1z4WkME8"
      },
      "source": [
        "regressor.add(Dense(units = 1))"
      ],
      "execution_count": 13,
      "outputs": []
    },
    {
      "cell_type": "code",
      "metadata": {
        "id": "XTrhVN-tkbko"
      },
      "source": [
        "regressor.compile(optimizer = 'adam', loss = 'mean_squared_error')"
      ],
      "execution_count": 14,
      "outputs": []
    },
    {
      "cell_type": "code",
      "metadata": {
        "id": "I06Nkrz5kkb-",
        "colab": {
          "base_uri": "https://localhost:8080/"
        },
        "outputId": "0de66385-040e-4e6c-a12a-bd70b180f252"
      },
      "source": [
        "regressor.fit(X_train, y_train, epochs = 120, batch_size = 32)"
      ],
      "execution_count": 15,
      "outputs": [
        {
          "output_type": "stream",
          "name": "stdout",
          "text": [
            "Epoch 1/120\n",
            "38/38 [==============================] - 19s 189ms/step - loss: 0.0382\n",
            "Epoch 2/120\n",
            "38/38 [==============================] - 6s 161ms/step - loss: 0.0064\n",
            "Epoch 3/120\n",
            "38/38 [==============================] - 5s 138ms/step - loss: 0.0057\n",
            "Epoch 4/120\n",
            "38/38 [==============================] - 6s 160ms/step - loss: 0.0055\n",
            "Epoch 5/120\n",
            "38/38 [==============================] - 4s 108ms/step - loss: 0.0045\n",
            "Epoch 6/120\n",
            "38/38 [==============================] - 4s 108ms/step - loss: 0.0048\n",
            "Epoch 7/120\n",
            "38/38 [==============================] - 6s 149ms/step - loss: 0.0052\n",
            "Epoch 8/120\n",
            "38/38 [==============================] - 4s 107ms/step - loss: 0.0057\n",
            "Epoch 9/120\n",
            "38/38 [==============================] - 4s 108ms/step - loss: 0.0050\n",
            "Epoch 10/120\n",
            "38/38 [==============================] - 6s 146ms/step - loss: 0.0041\n",
            "Epoch 11/120\n",
            "38/38 [==============================] - 4s 107ms/step - loss: 0.0037\n",
            "Epoch 12/120\n",
            "38/38 [==============================] - 4s 106ms/step - loss: 0.0041\n",
            "Epoch 13/120\n",
            "38/38 [==============================] - 6s 171ms/step - loss: 0.0038\n",
            "Epoch 14/120\n",
            "38/38 [==============================] - 5s 120ms/step - loss: 0.0036\n",
            "Epoch 15/120\n",
            "38/38 [==============================] - 4s 116ms/step - loss: 0.0037\n",
            "Epoch 16/120\n",
            "38/38 [==============================] - 5s 138ms/step - loss: 0.0040\n",
            "Epoch 17/120\n",
            "38/38 [==============================] - 4s 108ms/step - loss: 0.0037\n",
            "Epoch 18/120\n",
            "38/38 [==============================] - 4s 116ms/step - loss: 0.0040\n",
            "Epoch 19/120\n",
            "38/38 [==============================] - 5s 136ms/step - loss: 0.0035\n",
            "Epoch 20/120\n",
            "38/38 [==============================] - 4s 109ms/step - loss: 0.0034\n",
            "Epoch 21/120\n",
            "38/38 [==============================] - 5s 121ms/step - loss: 0.0032\n",
            "Epoch 22/120\n",
            "38/38 [==============================] - 5s 134ms/step - loss: 0.0034\n",
            "Epoch 23/120\n",
            "38/38 [==============================] - 4s 108ms/step - loss: 0.0030\n",
            "Epoch 24/120\n",
            "38/38 [==============================] - 4s 118ms/step - loss: 0.0034\n",
            "Epoch 25/120\n",
            "38/38 [==============================] - 5s 134ms/step - loss: 0.0034\n",
            "Epoch 26/120\n",
            "38/38 [==============================] - 4s 109ms/step - loss: 0.0030\n",
            "Epoch 27/120\n",
            "38/38 [==============================] - 5s 127ms/step - loss: 0.0031\n",
            "Epoch 28/120\n",
            "38/38 [==============================] - 5s 134ms/step - loss: 0.0028\n",
            "Epoch 29/120\n",
            "38/38 [==============================] - 4s 107ms/step - loss: 0.0029\n",
            "Epoch 30/120\n",
            "38/38 [==============================] - 5s 123ms/step - loss: 0.0029\n",
            "Epoch 31/120\n",
            "38/38 [==============================] - 5s 131ms/step - loss: 0.0032\n",
            "Epoch 32/120\n",
            "38/38 [==============================] - 4s 109ms/step - loss: 0.0030\n",
            "Epoch 33/120\n",
            "38/38 [==============================] - 5s 127ms/step - loss: 0.0028\n",
            "Epoch 34/120\n",
            "38/38 [==============================] - 5s 126ms/step - loss: 0.0030\n",
            "Epoch 35/120\n",
            "38/38 [==============================] - 4s 108ms/step - loss: 0.0027\n",
            "Epoch 36/120\n",
            "38/38 [==============================] - 5s 131ms/step - loss: 0.0028\n",
            "Epoch 37/120\n",
            "38/38 [==============================] - 5s 123ms/step - loss: 0.0026\n",
            "Epoch 38/120\n",
            "38/38 [==============================] - 4s 108ms/step - loss: 0.0027\n",
            "Epoch 39/120\n",
            "38/38 [==============================] - 10s 274ms/step - loss: 0.0025\n",
            "Epoch 40/120\n",
            "38/38 [==============================] - 11s 295ms/step - loss: 0.0030\n",
            "Epoch 41/120\n",
            "38/38 [==============================] - 9s 226ms/step - loss: 0.0026\n",
            "Epoch 42/120\n",
            "38/38 [==============================] - 9s 236ms/step - loss: 0.0025\n",
            "Epoch 43/120\n",
            "38/38 [==============================] - 4s 109ms/step - loss: 0.0025\n",
            "Epoch 44/120\n",
            "38/38 [==============================] - 5s 140ms/step - loss: 0.0024\n",
            "Epoch 45/120\n",
            "38/38 [==============================] - 4s 112ms/step - loss: 0.0022\n",
            "Epoch 46/120\n",
            "38/38 [==============================] - 4s 107ms/step - loss: 0.0023\n",
            "Epoch 47/120\n",
            "38/38 [==============================] - 5s 143ms/step - loss: 0.0023\n",
            "Epoch 48/120\n",
            "38/38 [==============================] - 4s 108ms/step - loss: 0.0025\n",
            "Epoch 49/120\n",
            "38/38 [==============================] - 4s 108ms/step - loss: 0.0022\n",
            "Epoch 50/120\n",
            "38/38 [==============================] - 6s 147ms/step - loss: 0.0025\n",
            "Epoch 51/120\n",
            "38/38 [==============================] - 4s 109ms/step - loss: 0.0022\n",
            "Epoch 52/120\n",
            "38/38 [==============================] - 4s 107ms/step - loss: 0.0024\n",
            "Epoch 53/120\n",
            "38/38 [==============================] - 6s 146ms/step - loss: 0.0021\n",
            "Epoch 54/120\n",
            "38/38 [==============================] - 4s 108ms/step - loss: 0.0022\n",
            "Epoch 55/120\n",
            "38/38 [==============================] - 4s 108ms/step - loss: 0.0022\n",
            "Epoch 56/120\n",
            "38/38 [==============================] - 6s 167ms/step - loss: 0.0024\n",
            "Epoch 57/120\n",
            "38/38 [==============================] - 4s 108ms/step - loss: 0.0021\n",
            "Epoch 58/120\n",
            "38/38 [==============================] - 4s 109ms/step - loss: 0.0021\n",
            "Epoch 59/120\n",
            "38/38 [==============================] - 5s 144ms/step - loss: 0.0021\n",
            "Epoch 60/120\n",
            "38/38 [==============================] - 4s 108ms/step - loss: 0.0021\n",
            "Epoch 61/120\n",
            "38/38 [==============================] - 4s 108ms/step - loss: 0.0020\n",
            "Epoch 62/120\n",
            "38/38 [==============================] - 8s 225ms/step - loss: 0.0019\n",
            "Epoch 63/120\n",
            "38/38 [==============================] - 7s 183ms/step - loss: 0.0020\n",
            "Epoch 64/120\n",
            "38/38 [==============================] - 10s 259ms/step - loss: 0.0018\n",
            "Epoch 65/120\n",
            "38/38 [==============================] - 6s 163ms/step - loss: 0.0019\n",
            "Epoch 66/120\n",
            "38/38 [==============================] - 5s 122ms/step - loss: 0.0017\n",
            "Epoch 67/120\n",
            "38/38 [==============================] - 4s 109ms/step - loss: 0.0018\n",
            "Epoch 68/120\n",
            "38/38 [==============================] - 5s 135ms/step - loss: 0.0019\n",
            "Epoch 69/120\n",
            "38/38 [==============================] - 5s 123ms/step - loss: 0.0019\n",
            "Epoch 70/120\n",
            "38/38 [==============================] - 4s 112ms/step - loss: 0.0020\n",
            "Epoch 71/120\n",
            "38/38 [==============================] - 6s 147ms/step - loss: 0.0018\n",
            "Epoch 72/120\n",
            "38/38 [==============================] - 4s 108ms/step - loss: 0.0018\n",
            "Epoch 73/120\n",
            "38/38 [==============================] - 4s 110ms/step - loss: 0.0018\n",
            "Epoch 74/120\n",
            "38/38 [==============================] - 6s 150ms/step - loss: 0.0016\n",
            "Epoch 75/120\n",
            "38/38 [==============================] - 4s 108ms/step - loss: 0.0016\n",
            "Epoch 76/120\n",
            "38/38 [==============================] - 5s 123ms/step - loss: 0.0017\n",
            "Epoch 77/120\n",
            "38/38 [==============================] - 9s 248ms/step - loss: 0.0016\n",
            "Epoch 78/120\n",
            "38/38 [==============================] - 4s 109ms/step - loss: 0.0016\n",
            "Epoch 79/120\n",
            "38/38 [==============================] - 6s 166ms/step - loss: 0.0020\n",
            "Epoch 80/120\n",
            "38/38 [==============================] - 6s 148ms/step - loss: 0.0018\n",
            "Epoch 81/120\n",
            "38/38 [==============================] - 4s 111ms/step - loss: 0.0016\n",
            "Epoch 82/120\n",
            "38/38 [==============================] - 5s 142ms/step - loss: 0.0018\n",
            "Epoch 83/120\n",
            "38/38 [==============================] - 4s 110ms/step - loss: 0.0016\n",
            "Epoch 84/120\n",
            "38/38 [==============================] - 6s 167ms/step - loss: 0.0016\n",
            "Epoch 85/120\n",
            "38/38 [==============================] - 5s 139ms/step - loss: 0.0016\n",
            "Epoch 86/120\n",
            "38/38 [==============================] - 4s 108ms/step - loss: 0.0014\n",
            "Epoch 87/120\n",
            "38/38 [==============================] - 5s 132ms/step - loss: 0.0015\n",
            "Epoch 88/120\n",
            "38/38 [==============================] - 5s 120ms/step - loss: 0.0014\n",
            "Epoch 89/120\n",
            "38/38 [==============================] - 4s 108ms/step - loss: 0.0015\n",
            "Epoch 90/120\n",
            "38/38 [==============================] - 5s 135ms/step - loss: 0.0016\n",
            "Epoch 91/120\n",
            "38/38 [==============================] - 5s 120ms/step - loss: 0.0016\n",
            "Epoch 92/120\n",
            "38/38 [==============================] - 4s 108ms/step - loss: 0.0016\n",
            "Epoch 93/120\n",
            "38/38 [==============================] - 5s 132ms/step - loss: 0.0015\n",
            "Epoch 94/120\n",
            "38/38 [==============================] - 5s 120ms/step - loss: 0.0014\n",
            "Epoch 95/120\n",
            "38/38 [==============================] - 4s 108ms/step - loss: 0.0016\n",
            "Epoch 96/120\n",
            "38/38 [==============================] - 5s 135ms/step - loss: 0.0014\n",
            "Epoch 97/120\n",
            "38/38 [==============================] - 5s 118ms/step - loss: 0.0015\n",
            "Epoch 98/120\n",
            "38/38 [==============================] - 4s 109ms/step - loss: 0.0016\n",
            "Epoch 99/120\n",
            "38/38 [==============================] - 7s 171ms/step - loss: 0.0015\n",
            "Epoch 100/120\n",
            "38/38 [==============================] - 6s 161ms/step - loss: 0.0015\n",
            "Epoch 101/120\n",
            "38/38 [==============================] - 4s 110ms/step - loss: 0.0015\n",
            "Epoch 102/120\n",
            "38/38 [==============================] - 6s 149ms/step - loss: 0.0015\n",
            "Epoch 103/120\n",
            "38/38 [==============================] - 4s 110ms/step - loss: 0.0014\n",
            "Epoch 104/120\n",
            "38/38 [==============================] - 4s 109ms/step - loss: 0.0013\n",
            "Epoch 105/120\n",
            "38/38 [==============================] - 5s 144ms/step - loss: 0.0013\n",
            "Epoch 106/120\n",
            "38/38 [==============================] - 4s 110ms/step - loss: 0.0014\n",
            "Epoch 107/120\n",
            "38/38 [==============================] - 5s 121ms/step - loss: 0.0015\n",
            "Epoch 108/120\n",
            "38/38 [==============================] - 6s 146ms/step - loss: 0.0013\n",
            "Epoch 109/120\n",
            "38/38 [==============================] - 4s 110ms/step - loss: 0.0014\n",
            "Epoch 110/120\n",
            "38/38 [==============================] - 5s 131ms/step - loss: 0.0013\n",
            "Epoch 111/120\n",
            "38/38 [==============================] - 5s 123ms/step - loss: 0.0013\n",
            "Epoch 112/120\n",
            "38/38 [==============================] - 4s 109ms/step - loss: 0.0013\n",
            "Epoch 113/120\n",
            "38/38 [==============================] - 5s 137ms/step - loss: 0.0012\n",
            "Epoch 114/120\n",
            "38/38 [==============================] - 4s 116ms/step - loss: 0.0013\n",
            "Epoch 115/120\n",
            "38/38 [==============================] - 4s 110ms/step - loss: 0.0014\n",
            "Epoch 116/120\n",
            "38/38 [==============================] - 5s 145ms/step - loss: 0.0014\n",
            "Epoch 117/120\n",
            "38/38 [==============================] - 4s 113ms/step - loss: 0.0011\n",
            "Epoch 118/120\n",
            "38/38 [==============================] - 4s 109ms/step - loss: 0.0012\n",
            "Epoch 119/120\n",
            "38/38 [==============================] - 6s 148ms/step - loss: 0.0013\n",
            "Epoch 120/120\n",
            "38/38 [==============================] - 4s 117ms/step - loss: 0.0012\n"
          ]
        },
        {
          "output_type": "execute_result",
          "data": {
            "text/plain": [
              "<keras.src.callbacks.History at 0x7aa953ca3760>"
            ]
          },
          "metadata": {},
          "execution_count": 15
        }
      ]
    },
    {
      "cell_type": "code",
      "source": [
        "from google.colab import drive\n",
        "drive.mount('/content/drive')\n"
      ],
      "metadata": {
        "colab": {
          "base_uri": "https://localhost:8080/"
        },
        "id": "l5IJ52ougwXF",
        "outputId": "a37ce1ff-9318-4063-e504-1f031a7184aa"
      },
      "execution_count": 19,
      "outputs": [
        {
          "output_type": "stream",
          "name": "stdout",
          "text": [
            "Mounted at /content/drive\n"
          ]
        }
      ]
    },
    {
      "cell_type": "markdown",
      "source": [
        "Saving the model"
      ],
      "metadata": {
        "id": "FvSDIOJD4b87"
      }
    },
    {
      "cell_type": "code",
      "source": [
        "import tensorflow as tf\n",
        "\n",
        "regressor.save('/content/drive/MyDrive/Google_Stock_Predictor.h5')\n"
      ],
      "metadata": {
        "colab": {
          "base_uri": "https://localhost:8080/"
        },
        "id": "1yR-XB7Wg2v4",
        "outputId": "14af12e2-e56c-40f8-b1c9-9e88b285dc64"
      },
      "execution_count": 20,
      "outputs": [
        {
          "output_type": "stream",
          "name": "stderr",
          "text": [
            "/usr/local/lib/python3.10/dist-packages/keras/src/engine/training.py:3103: UserWarning: You are saving your model as an HDF5 file via `model.save()`. This file format is considered legacy. We recommend using instead the native Keras format, e.g. `model.save('my_model.keras')`.\n",
            "  saving_api.save_model(\n"
          ]
        }
      ]
    },
    {
      "cell_type": "markdown",
      "metadata": {
        "id": "SgJO6qEDksxD"
      },
      "source": [
        "### Getting the real stock price of 2017"
      ]
    },
    {
      "cell_type": "code",
      "metadata": {
        "id": "FmBT2zqukxTz"
      },
      "source": [
        "dataset_test = pd.read_csv('Google_Stock_Price_Test.csv')\n",
        "real_stock_price = dataset_test.iloc[:, 1:2].values"
      ],
      "execution_count": 16,
      "outputs": []
    },
    {
      "cell_type": "markdown",
      "metadata": {
        "id": "GrvrLblxkz42"
      },
      "source": [
        "### Getting the predicted stock price of 2017"
      ]
    },
    {
      "cell_type": "code",
      "metadata": {
        "id": "emikTvUpk3Ck",
        "colab": {
          "base_uri": "https://localhost:8080/"
        },
        "outputId": "b87f0928-6228-4cb9-af2b-46770c559d49"
      },
      "source": [
        "dataset_total = pd.concat((dataset_train['Open'], dataset_test['Open']), axis = 0)\n",
        "inputs = dataset_total[len(dataset_total) - len(dataset_test) - 60:].values\n",
        "inputs = inputs.reshape(-1,1)\n",
        "inputs = sc.transform(inputs)\n",
        "X_test = []\n",
        "for i in range(60, 80):\n",
        "    X_test.append(inputs[i-60:i, 0])\n",
        "X_test = np.array(X_test)\n",
        "X_test = np.reshape(X_test, (X_test.shape[0], X_test.shape[1], 1))\n",
        "predicted_stock_price = regressor.predict(X_test)\n",
        "predicted_stock_price = sc.inverse_transform(predicted_stock_price)\n",
        "predicted_stock_price"
      ],
      "execution_count": 17,
      "outputs": [
        {
          "output_type": "stream",
          "name": "stdout",
          "text": [
            "1/1 [==============================] - 2s 2s/step\n"
          ]
        },
        {
          "output_type": "execute_result",
          "data": {
            "text/plain": [
              "array([[780.88696],\n",
              "       [777.93616],\n",
              "       [780.68774],\n",
              "       [782.5948 ],\n",
              "       [786.93823],\n",
              "       [794.20013],\n",
              "       [798.3799 ],\n",
              "       [797.7333 ],\n",
              "       [797.06854],\n",
              "       [797.06854],\n",
              "       [797.3947 ],\n",
              "       [797.4495 ],\n",
              "       [797.4668 ],\n",
              "       [798.56024],\n",
              "       [799.68646],\n",
              "       [807.0175 ],\n",
              "       [814.9652 ],\n",
              "       [821.823  ],\n",
              "       [822.5102 ],\n",
              "       [812.3064 ]], dtype=float32)"
            ]
          },
          "metadata": {},
          "execution_count": 17
        }
      ]
    },
    {
      "cell_type": "code",
      "metadata": {
        "id": "8OUI8U49k9tH",
        "colab": {
          "base_uri": "https://localhost:8080/",
          "height": 472
        },
        "outputId": "96d76d19-640c-4bf0-abd0-c3af4dc68ba9"
      },
      "source": [
        "plt.plot(real_stock_price, color = 'red', label = 'Real Google Stock Price')\n",
        "plt.plot(predicted_stock_price, color = 'blue', label = 'Predicted Google Stock Price')\n",
        "plt.title('Google Stock Price Prediction')\n",
        "plt.xlabel('Time')\n",
        "plt.ylabel('Google Stock Price')\n",
        "plt.legend()\n",
        "plt.show()"
      ],
      "execution_count": 18,
      "outputs": [
        {
          "output_type": "display_data",
          "data": {
            "text/plain": [
              "<Figure size 640x480 with 1 Axes>"
            ],
            "image/png": "[encoded data removed]"
          },
          "metadata": {}
        }
      ]
    }
  ]
}